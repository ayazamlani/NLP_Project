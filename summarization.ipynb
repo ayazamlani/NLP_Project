{
 "cells": [
  {
   "metadata": {
    "ExecuteTime": {
     "end_time": "2025-02-07T21:20:29.483754Z",
     "start_time": "2025-02-07T21:20:28.756156Z"
    }
   },
   "cell_type": "code",
   "source": [
    "# Function to download the model from the Hugging Face model hub\n",
    "from huggingface_hub import hf_hub_download\n",
    "\n",
    "# Importing the Llama class from the llama_cpp module\n",
    "from llama_cpp import Llama\n",
    "\n",
    "# Importing the library for data manipulation\n",
    "import pandas as pd\n",
    "\n",
    "from tqdm import tqdm # For progress bar related functionalities\n",
    "tqdm.pandas()"
   ],
   "id": "4d784733ce1f5581",
   "outputs": [],
   "execution_count": 2
  },
  {
   "metadata": {
    "ExecuteTime": {
     "end_time": "2025-02-07T21:20:33.710911Z",
     "start_time": "2025-02-07T21:20:33.704445Z"
    }
   },
   "cell_type": "code",
   "source": "stock_news = pd.read_csv(\"stock_news.csv\")",
   "id": "8e9285e3e1ee380",
   "outputs": [],
   "execution_count": 3
  },
  {
   "metadata": {
    "ExecuteTime": {
     "end_time": "2025-02-07T21:20:36.360448Z",
     "start_time": "2025-02-07T21:20:36.356217Z"
    }
   },
   "cell_type": "code",
   "source": "data = stock_news.copy()",
   "id": "f6a651723ac783be",
   "outputs": [],
   "execution_count": 4
  },
  {
   "metadata": {
    "ExecuteTime": {
     "end_time": "2025-02-07T21:27:18.391391Z",
     "start_time": "2025-02-07T21:24:57.355028Z"
    }
   },
   "cell_type": "code",
   "source": [
    "model_name_or_path = \"TheBloke/Mistral-7B-Instruct-v0.2-GGUF\"\n",
    "model_basename = \"mistral-7b-instruct-v0.2.Q6_K.gguf\"\n",
    "\n",
    "\n",
    "model_path = hf_hub_download(\n",
    "    repo_id=\"TheBloke/Mistral-7B-Instruct-v0.2-GGUF\", # Complete the code to mention the repo_id\n",
    "    filename=\"mistral-7b-instruct-v0.2.Q6_K.gguf\" # Complete the code to mention the filename\n",
    ")"
   ],
   "id": "4338c5fe9d52552b",
   "outputs": [
    {
     "data": {
      "text/plain": [
       "mistral-7b-instruct-v0.2.Q6_K.gguf:   0%|          | 0.00/5.94G [00:00<?, ?B/s]"
      ],
      "application/vnd.jupyter.widget-view+json": {
       "version_major": 2,
       "version_minor": 0,
       "model_id": "f97fd9c0eae24e4c8caa2f0f419d2aca"
      }
     },
     "metadata": {},
     "output_type": "display_data"
    },
    {
     "name": "stderr",
     "output_type": "stream",
     "text": [
      "C:\\Users\\ayaza\\PycharmProjects\\NLP_Project\\.venv\\Lib\\site-packages\\huggingface_hub\\file_download.py:140: UserWarning: `huggingface_hub` cache-system uses symlinks by default to efficiently store duplicated files but your machine does not support them in C:\\Users\\ayaza\\.cache\\huggingface\\hub\\models--TheBloke--Mistral-7B-Instruct-v0.2-GGUF. Caching files will still work but in a degraded version that might require more space on your disk. This warning can be disabled by setting the `HF_HUB_DISABLE_SYMLINKS_WARNING` environment variable. For more details, see https://huggingface.co/docs/huggingface_hub/how-to-cache#limitations.\n",
      "To support symlinks on Windows, you either need to activate Developer Mode or to run Python as an administrator. In order to activate developer mode, see this article: https://docs.microsoft.com/en-us/windows/apps/get-started/enable-your-device-for-development\n",
      "  warnings.warn(message)\n"
     ]
    }
   ],
   "execution_count": 5
  },
  {
   "metadata": {
    "ExecuteTime": {
     "end_time": "2025-02-07T21:59:46.626525Z",
     "start_time": "2025-02-07T21:59:46.155410Z"
    }
   },
   "cell_type": "code",
   "source": [
    "#uncomment the below snippet of code if the runtime is connected to GPU.\n",
    "llm = Llama(\n",
    "    model_path=model_path, # Path to the model\n",
    "    n_gpu_layers=100, #Number of layers transferred to GPU\n",
    "    n_ctx=4500, #Context window\n",
    ")"
   ],
   "id": "b6840f9d7a3d8847",
   "outputs": [
    {
     "name": "stderr",
     "output_type": "stream",
     "text": [
      "AVX = 1 | AVX2 = 1 | AVX512 = 0 | AVX512_VBMI = 0 | AVX512_VNNI = 0 | FMA = 1 | NEON = 0 | ARM_FMA = 0 | F16C = 1 | FP16_VA = 0 | WASM_SIMD = 0 | BLAS = 0 | SSE3 = 1 | SSSE3 = 0 | VSX = 0 | \n"
     ]
    }
   ],
   "execution_count": 6
  },
  {
   "metadata": {
    "ExecuteTime": {
     "end_time": "2025-02-07T21:59:55.475255Z",
     "start_time": "2025-02-07T21:59:55.470508Z"
    }
   },
   "cell_type": "code",
   "source": "data[\"Date\"] = pd.to_datetime(data['Date'])  # Convert the 'Date' column to datetime format.",
   "id": "3bf1bccf8aa5fec5",
   "outputs": [],
   "execution_count": 7
  },
  {
   "metadata": {
    "ExecuteTime": {
     "end_time": "2025-02-07T22:00:00.499472Z",
     "start_time": "2025-02-07T22:00:00.495853Z"
    }
   },
   "cell_type": "code",
   "source": [
    "# Group the data by week using the 'Date' column.\n",
    "weekly_grouped = data.groupby(pd.Grouper(key='Date', freq='W'))"
   ],
   "id": "b972d68d89e2b02c",
   "outputs": [],
   "execution_count": 8
  },
  {
   "metadata": {
    "ExecuteTime": {
     "end_time": "2025-02-07T22:00:15.714238Z",
     "start_time": "2025-02-07T22:00:15.709238Z"
    }
   },
   "cell_type": "code",
   "source": [
    "# Aggregate the grouped data on a weekly basis:\n",
    "# concatenate 'content' values into a single string separated by ' || '.\n",
    "weekly_grouped = weekly_grouped.agg(\n",
    "    {\n",
    "        'News': lambda x: ' || '.join(x)  # Join the news values with ' || ' separator.\n",
    "    }\n",
    ").reset_index()\n",
    "\n",
    "print(weekly_grouped.shape)"
   ],
   "id": "f23bb0338d8fa624",
   "outputs": [
    {
     "name": "stdout",
     "output_type": "stream",
     "text": [
      "(18, 2)\n"
     ]
    }
   ],
   "execution_count": 9
  },
  {
   "metadata": {
    "ExecuteTime": {
     "end_time": "2025-02-07T22:00:17.483195Z",
     "start_time": "2025-02-07T22:00:17.477225Z"
    }
   },
   "cell_type": "code",
   "source": "weekly_grouped",
   "id": "de399bdfc2c7d988",
   "outputs": [
    {
     "data": {
      "text/plain": [
       "         Date                                               News\n",
       "0  2019-01-06   The tech sector experienced a significant dec...\n",
       "1  2019-01-13   Sprint and Samsung plan to release 5G smartph...\n",
       "2  2019-01-20   The U.S. stock market declined on Monday as c...\n",
       "3  2019-01-27   The Swiss National Bank (SNB) governor, Andre...\n",
       "4  2019-02-03   Caterpillar Inc reported lower-than-expected ...\n",
       "5  2019-02-10   The Dow Jones Industrial Average, S&P 500, an...\n",
       "6  2019-02-17   This week, the European Union's second highes...\n",
       "7  2019-02-24   This news article discusses progress towards ...\n",
       "8  2019-03-03   The Dow Jones Industrial Average and other ma...\n",
       "9  2019-03-10   Spotify, the world's largest paid music strea...\n",
       "10 2019-03-17   The United States opposes France's digital se...\n",
       "11 2019-03-24   Facebook's stock price dropped more than 3% o...\n",
       "12 2019-03-31   This news article reports that the S&P 500 In...\n",
       "13 2019-04-07   Apple and other consumer brands, including LV...\n",
       "14 2019-04-14   In March, mobile phone shipments to China dro...\n",
       "15 2019-04-21   The chairman of Taiwan's Foxconn, Terry Gou, ...\n",
       "16 2019-04-28   Taiwan's export orders continued to decline f...\n",
       "17 2019-05-05   Spotify reported better-than-expected Q1 reve..."
      ],
      "text/html": [
       "<div>\n",
       "<style scoped>\n",
       "    .dataframe tbody tr th:only-of-type {\n",
       "        vertical-align: middle;\n",
       "    }\n",
       "\n",
       "    .dataframe tbody tr th {\n",
       "        vertical-align: top;\n",
       "    }\n",
       "\n",
       "    .dataframe thead th {\n",
       "        text-align: right;\n",
       "    }\n",
       "</style>\n",
       "<table border=\"1\" class=\"dataframe\">\n",
       "  <thead>\n",
       "    <tr style=\"text-align: right;\">\n",
       "      <th></th>\n",
       "      <th>Date</th>\n",
       "      <th>News</th>\n",
       "    </tr>\n",
       "  </thead>\n",
       "  <tbody>\n",
       "    <tr>\n",
       "      <th>0</th>\n",
       "      <td>2019-01-06</td>\n",
       "      <td>The tech sector experienced a significant dec...</td>\n",
       "    </tr>\n",
       "    <tr>\n",
       "      <th>1</th>\n",
       "      <td>2019-01-13</td>\n",
       "      <td>Sprint and Samsung plan to release 5G smartph...</td>\n",
       "    </tr>\n",
       "    <tr>\n",
       "      <th>2</th>\n",
       "      <td>2019-01-20</td>\n",
       "      <td>The U.S. stock market declined on Monday as c...</td>\n",
       "    </tr>\n",
       "    <tr>\n",
       "      <th>3</th>\n",
       "      <td>2019-01-27</td>\n",
       "      <td>The Swiss National Bank (SNB) governor, Andre...</td>\n",
       "    </tr>\n",
       "    <tr>\n",
       "      <th>4</th>\n",
       "      <td>2019-02-03</td>\n",
       "      <td>Caterpillar Inc reported lower-than-expected ...</td>\n",
       "    </tr>\n",
       "    <tr>\n",
       "      <th>5</th>\n",
       "      <td>2019-02-10</td>\n",
       "      <td>The Dow Jones Industrial Average, S&amp;P 500, an...</td>\n",
       "    </tr>\n",
       "    <tr>\n",
       "      <th>6</th>\n",
       "      <td>2019-02-17</td>\n",
       "      <td>This week, the European Union's second highes...</td>\n",
       "    </tr>\n",
       "    <tr>\n",
       "      <th>7</th>\n",
       "      <td>2019-02-24</td>\n",
       "      <td>This news article discusses progress towards ...</td>\n",
       "    </tr>\n",
       "    <tr>\n",
       "      <th>8</th>\n",
       "      <td>2019-03-03</td>\n",
       "      <td>The Dow Jones Industrial Average and other ma...</td>\n",
       "    </tr>\n",
       "    <tr>\n",
       "      <th>9</th>\n",
       "      <td>2019-03-10</td>\n",
       "      <td>Spotify, the world's largest paid music strea...</td>\n",
       "    </tr>\n",
       "    <tr>\n",
       "      <th>10</th>\n",
       "      <td>2019-03-17</td>\n",
       "      <td>The United States opposes France's digital se...</td>\n",
       "    </tr>\n",
       "    <tr>\n",
       "      <th>11</th>\n",
       "      <td>2019-03-24</td>\n",
       "      <td>Facebook's stock price dropped more than 3% o...</td>\n",
       "    </tr>\n",
       "    <tr>\n",
       "      <th>12</th>\n",
       "      <td>2019-03-31</td>\n",
       "      <td>This news article reports that the S&amp;P 500 In...</td>\n",
       "    </tr>\n",
       "    <tr>\n",
       "      <th>13</th>\n",
       "      <td>2019-04-07</td>\n",
       "      <td>Apple and other consumer brands, including LV...</td>\n",
       "    </tr>\n",
       "    <tr>\n",
       "      <th>14</th>\n",
       "      <td>2019-04-14</td>\n",
       "      <td>In March, mobile phone shipments to China dro...</td>\n",
       "    </tr>\n",
       "    <tr>\n",
       "      <th>15</th>\n",
       "      <td>2019-04-21</td>\n",
       "      <td>The chairman of Taiwan's Foxconn, Terry Gou, ...</td>\n",
       "    </tr>\n",
       "    <tr>\n",
       "      <th>16</th>\n",
       "      <td>2019-04-28</td>\n",
       "      <td>Taiwan's export orders continued to decline f...</td>\n",
       "    </tr>\n",
       "    <tr>\n",
       "      <th>17</th>\n",
       "      <td>2019-05-05</td>\n",
       "      <td>Spotify reported better-than-expected Q1 reve...</td>\n",
       "    </tr>\n",
       "  </tbody>\n",
       "</table>\n",
       "</div>"
      ]
     },
     "execution_count": 10,
     "metadata": {},
     "output_type": "execute_result"
    }
   ],
   "execution_count": 10
  },
  {
   "metadata": {
    "ExecuteTime": {
     "end_time": "2025-02-07T22:00:37.664276Z",
     "start_time": "2025-02-07T22:00:37.661773Z"
    }
   },
   "cell_type": "code",
   "source": [
    "# creating a copy of the data\n",
    "data_1 = weekly_grouped.copy()"
   ],
   "id": "7049e941cf1c97e0",
   "outputs": [],
   "execution_count": 11
  },
  {
   "metadata": {
    "ExecuteTime": {
     "end_time": "2025-02-07T22:15:38.133844Z",
     "start_time": "2025-02-07T22:15:38.130331Z"
    }
   },
   "cell_type": "code",
   "source": [
    "# defining a function to parse the JSON output from the model\n",
    "def extract_json_data(json_str):\n",
    "    import json\n",
    "    try:\n",
    "        # Find the indices of the opening and closing curly braces\n",
    "        json_start = json_str.find('{')\n",
    "        json_end = json_str.rfind('}')\n",
    "\n",
    "        if json_start != -1 and json_end != -1:\n",
    "            extracted_category = json_str[json_start:json_end + 1]  # Extract the JSON object\n",
    "            data_dict = json.loads(extracted_category)\n",
    "            return data_dict\n",
    "        else:\n",
    "            print(f\"Warning: JSON object not found in response: {json_str}\")\n",
    "            return {}\n",
    "    except json.JSONDecodeError as e:\n",
    "        print(f\"Error parsing JSON: {e}\")\n",
    "        return {}"
   ],
   "id": "46f87bbab453c4e",
   "outputs": [],
   "execution_count": 12
  },
  {
   "metadata": {
    "ExecuteTime": {
     "end_time": "2025-02-07T22:15:43.969336Z",
     "start_time": "2025-02-07T22:15:43.966890Z"
    }
   },
   "cell_type": "code",
   "source": [
    "#Defining the response function\n",
    "def response_mistral_1(prompt, news):\n",
    "    model_output = llm(\n",
    "      f\"\"\"\n",
    "      [INST]\n",
    "      {prompt}\n",
    "      News Articles: {news}\n",
    "      [/INST]\n",
    "      \"\"\",\n",
    "      max_tokens=512, #Complete the code to set the maximum number of tokens the model should generate for this task.\n",
    "      temperature=0.7, #Complete the code to set the value for temperature.\n",
    "      top_p=0.9, #Complete the code to set the value for top_p\n",
    "      top_k=50, #Complete the code to set the value for top_k\n",
    "      echo=False,\n",
    "    )\n",
    "\n",
    "    final_output = model_output[\"choices\"][0][\"text\"]\n",
    "\n",
    "    return final_output"
   ],
   "id": "2f9abf338009c596",
   "outputs": [],
   "execution_count": 13
  },
  {
   "metadata": {
    "ExecuteTime": {
     "end_time": "2025-02-07T22:15:46.084888Z",
     "start_time": "2025-02-07T22:15:46.082402Z"
    }
   },
   "cell_type": "code",
   "source": "news = data_1.loc[0, 'News']",
   "id": "c404358314395218",
   "outputs": [],
   "execution_count": 14
  },
  {
   "metadata": {
    "ExecuteTime": {
     "end_time": "2025-02-07T22:15:47.646722Z",
     "start_time": "2025-02-07T22:15:47.642792Z"
    }
   },
   "cell_type": "code",
   "source": [
    "print(len(news.split(' ')))\n",
    "news"
   ],
   "id": "7777b9236038b7b",
   "outputs": [
    {
     "name": "stdout",
     "output_type": "stream",
     "text": [
      "2611\n"
     ]
    },
    {
     "data": {
      "text/plain": [
       "' The tech sector experienced a significant decline in the aftermarket following Apple\\'s Q1 revenue warning. Notable suppliers, including Skyworks, Broadcom, Lumentum, Qorvo, and TSMC, saw their stocks drop in response to Apple\\'s downward revision of its revenue expectations for the quarter, previously announced in January. ||  Apple lowered its fiscal Q1 revenue guidance to $84 billion from earlier estimates of $89-$93 billion due to weaker than expected iPhone sales. The announcement caused a significant drop in Apple\\'s stock price and negatively impacted related suppliers, leading to broader market declines for tech indices such as Nasdaq 10 ||  Apple cut its fiscal first quarter revenue forecast from $89-$93 billion to $84 billion due to weaker demand in China and fewer iPhone upgrades. CEO Tim Cook also mentioned constrained sales of Airpods and Macbooks. Apple\\'s shares fell 8.5% in post market trading, while Asian suppliers like Hon ||  This news article reports that yields on long-dated U.S. Treasury securities hit their lowest levels in nearly a year on January 2, 2019, due to concerns about the health of the global economy following weak economic data from China and Europe, as well as the partial U.S. government shutdown. Apple ||  Apple\\'s revenue warning led to a decline in USD JPY pair and a gain in Japanese yen, as investors sought safety in the highly liquid currency. Apple\\'s underperformance in Q1, with forecasted revenue of $84 billion compared to analyst expectations of $91.5 billion, triggered risk aversion mood in markets || Apple CEO Tim Cook discussed the company\\'s Q1 warning on CNBC, attributing US-China trade tensions as a factor. Despite not mentioning iPhone unit sales specifically, Cook indicated Apple may comment on them again. Services revenue is projected to exceed $10.8 billion in Q1. Cook also addressed the lack of ||  Roku Inc has announced plans to offer premium video channels on a subscription basis through its free streaming service, The Roku Channel. Partners include CBS Corp\\'s Showtime, Lionsgate\\'s Starz, and Viacom Inc\\'s Noggin. This model follows Amazon\\'s successful Channels business, which generated an estimated ||  Wall Street saw modest gains on Wednesday but were threatened by fears of a global economic slowdown following Apple\\'s shocking revenue forecast cut, blaming weak demand in China. The tech giant\\'s suppliers and S&P 500 futures also suffered losses. Reports of decelerating factory activity in China and the euro zone ||  Apple\\'s fiscal first quarter revenue came in below analysts\\' estimates at around $84 billion, a significant drop from the forecasted range of $89-$93 billion. The tech giant attributed the shortfall to lower iPhone revenue and upgrades, as well as weakness in emerging markets. Several brokerages had already reduced their production estimates ||  Apple Inc. lowered its quarterly sales forecast for the fiscal first quarter, underperforming analysts\\' expectations due to slowing Chinese economy and trade tensions. The news sent Apple shares tumbling and affected Asia-listed suppliers like Hon Hai Precision Industry Co Ltd, Taiwan Semiconductor Manufacturing Company, and LG Innot ||  The Australian dollar experienced significant volatility on Thursday, plunging to multi-year lows against major currencies due to automated selling, liquidity issues, and a drought of trades. The largest intra-day falls in the Aussie\\'s history occurred amid violent movements in AUD/JPY and AUD/ ||  In early Asian trading on Thursday, the Japanese yen surged as the U.S. dollar and Australian dollar collapsed in thin markets due to massive stop loss sales triggered by Apple\\'s earnings warning of sluggish iPhone sales in China and risk aversion. The yen reached its lowest levels against the U.S. dollar since March  ||  The dollar fell from above 109 to 106.67 after Apple\\'s revenue warning, while the 10-year Treasury yield also dropped to 2.61%. This followed money flowing into US government paper. Apple\\'s shares and U.S. stock index futures declined, with the NAS ||  RBC Capital maintains its bullish stance on Apple, keeping its Outperform rating and $220 price target. However, analyst Amit Daryanani warns of ongoing iPhone demand concerns, which could impact pricing power and segmentation efforts if severe. He suggests potential capital allocation adjustments if the stock underperforms for several quarters ||  Oil prices dropped on Thursday as investor sentiment remained affected by China\\'s economic slowdown and turmoil in stock and currency markets. US WTI Crude Oil fell by $2.10 to $45.56 a barrel, while International Brent Oil was down $1.20 at $54.26 ||  In this news article, investors\\' concerns about a slowing Chinese and global economy, amplified by Apple\\'s revenue warning, led to a significant surge in the Japanese yen. The yen reached its biggest one-day rise in 20 months, with gains of over 4% versus the dollar. This trend was driven by automated ||  In Asia, gold prices rose to over six-month highs on concerns of a global economic slowdown and stock market volatility. Apple lowered its revenue forecast for the first quarter, leading Asian stocks to decline and safe haven assets like gold and Japanese yen to gain. Data showed weakened factory activity in Asia, particularly China, adding to ||  Fears of a global economic slowdown led to a decline in the US dollar on Thursday, as the yen gained ground due to its status as a safe haven currency. The USD index slipped below 96, and USD JPY dropped to 107.61, while the yen strengthened by 4.4%. ||  In Thursday trading, long-term US Treasury yields dropped significantly below 2.6%, reaching levels not seen in over a year, as investors shifted funds from stocks to bonds following Apple\\'s warning of decreased revenue due to emerging markets and China\\'s impact on corporate profits, with the White House advisor adding to concerns of earnings down ||  Gold prices have reached their highest level since mid-June, with the yellow metal hitting $1,291.40 per ounce due to investor concerns over a slowing economy and Apple\\'s bearish revenue outlook. Saxo Bank analyst Ole Hansen predicts gold may reach $1,300 sooner ||  Wedbush analyst Daniel Ives lowered his price target for Apple from $275 to $200 due to concerns over potential iPhone sales stagnation, with an estimated 750 million active iPhones worldwide that could cease growing or even decline. He maintains an Outperform rating and remains bullish on the long ||  Oil prices rebounded on Thursday due to dollar weakness, signs of output cuts by Saudi Arabia, and weaker fuel oil margins leading Riyadh to lower February prices for heavier crude grades sold to Asia. The Organization of the Petroleum Exporting Countries (OPEC) led by Saudi Arabia and other producers ||  This news article reports on the impact of Apple\\'s Q1 revenue warning on several tech and biotech stocks. Sesen Bio (SESN) and Prana Biotechnology (PRAN) saw their stock prices drop by 28% and 11%, respectively, following the announcement. Mellanox Technologies (ML ||  Gold prices reached within $5 of $1,300 on Thursday as weak stock markets and a slumping dollar drove investors towards safe-haven assets. The U.S. stock market fell about 2%, with Apple\\'s rare profit warning adding to investor unease. COMEX gold futures settled at $1 ||  The FDIC Chair, Jelena McWilliams, expressed no concern over market volatility affecting the U.S banking system due to banks\\' ample capital. She also mentioned a review of the CAMELS rating system used to evaluate bank health for potential inconsistencies and concerns regarding forum shopping. This review comes from industry ||  Apple cut its quarterly revenue forecast for the first time in over 15 years due to weak iPhone sales in China, representing around 20% of Apple\\'s revenue. This marks a significant downturn during Tim Cook\\'s tenure and reflects broader economic concerns in China exacerbated by trade tensions with the US. U ||  Goldman analyst Rod Hall lowered his price target for Apple from $182 to $140, citing potential risks to the tech giant\\'s 2019 numbers due to uncertainties in Chinese demand. He reduced his revenue estimate for the year by $6 billion and EPS forecast by $1.54 ||  Delta Air Lines lowered its fourth-quarter revenue growth forecast to a range of 3% from the previous estimate of 3% to 5%. Earnings per share are now expected to be $1.25 to $1.30. The slower pace of improvement in late December was unexpected, and Delta cited this as ||  Apple\\'s profit warning has significantly impacted the stock market and changed the outlook for interest rates. The chance of a rate cut in May has increased to 15-16% from just 3%, according to Investing com\\'s Fed Rate Monitor Tool. There is even a 1% chance of two cuts in May. ||  The White House advisor, Kevin Hassett, stated that a decline in Chinese economic growth would negatively impact U.S. firm profits but recover once a trade deal is reached between Washington and Beijing. He also noted that Asian economies, including China, have been experiencing significant slowdowns since last spring due to U.S. tariffs ||  The White House economic adviser, Kevin Hassett, warned that more companies could face earnings downgrades due to ongoing trade negotiations between the U.S. and China, leading to a decline in oil prices on Thursday. WTI crude fell 44 cents to $44.97 a barrel, while Brent crude inched ||  Japanese stocks suffered significant losses on the first trading day of 2019, with the Nikkei 225 and Topix indices both falling over 3 percent. Apple\\'s revenue forecast cut, citing weak iPhone sales in China, triggered global growth concerns and sent technology shares tumbling. The S&P 50 ||  Investors withdrew a record $98 billion from U.S. stock funds in December, with fears of aggressive monetary policy and an economic slowdown driving risk reduction. The S&P 500 fell 9% last month, with some seeing declines as a buying opportunity. Apple\\'s warning of weak iPhone sales added ||  Apple\\'s Q1 revenue guidance cut, resulting from weaker demand in China, led to an estimated $3.8 billion paper loss for Berkshire Hathaway due to its $252 million stake in Apple. This news, coupled with broad market declines, caused a significant $21.4 billion decrease in Berk ||  This news article reports that a cybersecurity researcher, Wish Wu, planned to present at the Black Hat Asia hacking conference on how to bypass Apple\\'s Face ID biometric security on iPhones. However, his employer, Ant Financial, which operates Alipay and uses facial recognition technologies including Face ID, asked him to withdraw ||  OPEC\\'s production cuts faced uncertainty as oil prices were influenced by volatile stock markets, specifically due to Apple\\'s lowered revenue forecast and global economic slowdown fears. US WTI and Brent crude both saw gains, but these were checked by stock market declines. Shale production is expected to continue impacting the oil market in ||  Warren Buffett\\'s Berkshire Hathaway suffered significant losses in the fourth quarter due to declines in Apple, its largest common stock investment. Apple cut its revenue forecast, causing a 5-6% decrease in Berkshire\\'s Class A shares. The decline resulted in potential unrealized investment losses and could push Berk ||  This news article reports that on Thursday, the two-year Treasury note yield dropped below the Federal Reserve\\'s effective rate for the first time since 2008. The market move suggests investors believe the Fed will not be able to continue tightening monetary policy. The drop in yields was attributed to a significant decline in U.S ||  The U.S. and China will hold their first face-to-face trade talks since agreeing to a 90-day truce in their trade war last month. Deputy U.S. Trade Representative Jeffrey Gerrish will lead the U.S. delegation for negotiations on Jan. 7 and 8, ||  Investors bought gold in large quantities due to concerns over a global economic slowdown, increased uncertainty in the stock market, and potential Fed rate hikes. The precious metal reached its highest price since June, with gold ETF holdings also seeing significant increases. Factors contributing to this demand include economic downturn, central bank policy mistakes, and ||  Delta Air Lines Inc reported lower-than-expected fourth quarter unit revenue growth, citing weaker than anticipated late bookings and increased competition. The carrier now expects total revenue per available seat mile to rise about 3 percent in the period, down from its earlier forecast of 3.5 percent growth. Fuel prices are also expected to ||  U.S. stocks experienced significant declines on Thursday as the S&P 500 dropped over 2%, the Dow Jones Industrial Average fell nearly 3%, and the Nasdaq Composite lost approximately 3% following a warning of weak revenue from Apple and indications of slowing U.S. factory activity, raising concerns ||  President Trump expressed optimism over potential trade talks with China, citing China\\'s current economic weakness as a potential advantage for the US. This sentiment was echoed by recent reports of weakened demand for Apple iPhones in China, raising concerns about the overall health of the Chinese economy. The White House is expected to take a strong stance in ||  Qualcomm secured a court order in Germany banning the sale of some iPhone models due to patent infringement, leading Apple to potentially remove these devices from its stores. However, third-party resellers like Gravis continue selling the affected iPhones. This is the third major effort by Qualcomm to ban Apple\\'s iPhones glob ||  Oil prices rose on Friday in Asia as China confirmed trade talks with the U.S., with WTI gaining 0.7% to $47.48 and Brent increasing 0.7% to $56.38 a barrel. The gains came after China\\'s Commerce Ministry announced that deputy U.S. Trade ||  Gold prices surged past the psychologically significant level of $1,300 per ounce in Asia on Friday due to growing concerns over a potential global economic downturn. The rise in gold was attributed to weak PMI data from China and Apple\\'s reduced quarterly sales forecast. Investors viewed gold as a safe haven asset amidst ||  In an internal memo, Huawei\\'s Chen Lifang reprimanded two employees for sending a New Year greeting on the company\\'s official Twitter account using an iPhone instead of a Huawei device. The incident caused damage to the brand and was described as a \"blunder\" in the memo. The mistake occurred due to ||  This news article reports on the positive impact of trade war talks between Beijing and Washington on European stock markets, specifically sectors sensitive to the trade war such as carmakers, industrials, mining companies, and banking. Stocks rallied with mining companies leading the gains due to copper price recovery. Bayer shares climbed despite a potential ruling restricting || Amazon has sold over 100 million devices with its Alexa digital assistant, according to The Verge. The company is cautious about releasing hardware sales figures and did not disclose holiday numbers for the Echo Dot. Over 150 products feature Alexa, and more than 28,000 smart home || The Supreme Court will review Broadcom\\'s appeal in a shareholder lawsuit over the 2015 acquisition of Emulex. The case hinges on whether intent to defraud is required for such lawsuits, and the decision could extend beyond the Broadcom suit. An Emulex investor filed a class action lawsuit ||  The Chinese central bank announced a fifth reduction in the required reserve ratio (RRR) for banks, freeing up approximately 116.5 billion yuan for new lending. This follows mounting concerns about China\\'s economic health amid slowing domestic demand and U.S. tariffs on exports. Premier Li Keqiang || The stock market rebounded strongly on Friday following positive news about US-China trade talks, a better-than-expected jobs report, and dovish comments from Federal Reserve Chairman Jerome Powell. The Dow Jones Industrial Average rose over 746 points, with the S&P 500 and Nasdaq Com'"
      ]
     },
     "execution_count": 15,
     "metadata": {},
     "output_type": "execute_result"
    }
   ],
   "execution_count": 15
  },
  {
   "metadata": {
    "ExecuteTime": {
     "end_time": "2025-02-07T22:21:17.149259Z",
     "start_time": "2025-02-07T22:21:17.146633Z"
    }
   },
   "cell_type": "code",
   "source": [
    "#Complete the code to define the prompt for this task\n",
    "prompt = \"\"\"\n",
    "You are an expert data analyst specializing in news content analysis.\n",
    "\n",
    "Task: Summarize the provided news content by identifying the top three positive and negative events that are most likely to impact the price of the stock.\n",
    "\n",
    "Instructions:\n",
    "1. Read the news content carefully.\n",
    "2. Identify the key positive and negative events in the content.\n",
    "3. Determine how these events could impact stock prices.\n",
    "4. Summarize the key positive and negative events, ensuring clarity and relevance.\n",
    "5. Ensure the events are ordered by their potential impact on the stock.\n",
    "\n",
    "Output Format: Return the output in JSON format with two keys:\n",
    "- \"Positive Events\": A list of the top three positive events.\n",
    "- \"Negative Events\": A list of the top three negative events.\n",
    "\n",
    "Example Output:\n",
    "{\n",
    "    \"Positive Events\": [\"Positive event 1\", \"Positive event 2\", \"Positive event 3\"],\n",
    "    \"Negative Events\": [\"Negative event 1\", \"Negative event 2\", \"Negative event 3\"]\n",
    "}\n",
    "\n",
    "\"\"\""
   ],
   "id": "385cbe61bb070562",
   "outputs": [],
   "execution_count": 18
  },
  {
   "metadata": {
    "ExecuteTime": {
     "end_time": "2025-02-07T22:26:23.594298Z",
     "start_time": "2025-02-07T22:21:21.352524Z"
    }
   },
   "cell_type": "code",
   "source": [
    "%%time\n",
    "summary = response_mistral_1(prompt, news)\n",
    "print(summary)"
   ],
   "id": "ebaad1d8a8cdca57",
   "outputs": [
    {
     "name": "stderr",
     "output_type": "stream",
     "text": [
      "Llama.generate: prefix-match hit\n"
     ]
    },
    {
     "name": "stdout",
     "output_type": "stream",
     "text": [
      " {\n",
      "          \"Positive Events\": [\n",
      "            \"Roku Inc announced plans to offer premium video channels on a subscription basis through its free streaming service, The Roku Channel.\",\n",
      "            \"The Supreme Court will review Broadcom's appeal in a shareholder lawsuit over the 2015 acquisition of Emulex.\",\n",
      "            \"The Chinese central bank announced a fifth reduction in the required reserve ratio (RRR) for banks, freeing up approximately 116.5 billion yuan for new lending.\"\n",
      "          ],\n",
      "          \"Negative Events\": [\n",
      "            \"Apple cut its fiscal first quarter revenue forecast from $89-$93 billion to $84 billion due to weaker demand in China and fewer iPhone upgrades.\",\n",
      "            \"The tech sector experienced a significant decline following Apple's Q1 revenue warning, leading to broader market declines for tech indices such as Nasdaq 100.\",\n",
      "            \"Apple's underperformance in Q1 triggered risk aversion mood in markets, causing a drop in USD JPY pair and a gain in Japanese yen.\"\n",
      "          ]\n",
      "       }\n",
      "      This summary highlights the top three positive and negative events mentioned in the news articles that are likely to impact Apple's stock price. The positive events include Roku's announcement of offering premium video channels, Broadcom's Supreme Court case, and China's fifth reduction in required reserve ratio for banks. The negative events include Apple's revenue warning, the tech sector's decline following the warning, and the risk aversion mood triggered by the underperformance in Q1. These events are ordered by their potential impact on the stock price.\n",
      "CPU times: total: 30min 59s\n",
      "Wall time: 5min 2s\n"
     ]
    }
   ],
   "execution_count": 19
  },
  {
   "metadata": {
    "ExecuteTime": {
     "end_time": "2025-02-07T23:07:36.413820Z",
     "start_time": "2025-02-07T22:29:40.347115Z"
    }
   },
   "cell_type": "code",
   "source": [
    "%%time\n",
    "data_1['Key Events'] = data_1['News'].progress_apply(lambda x: response_mistral_1(prompt,x))"
   ],
   "id": "c6caace7568d9adf",
   "outputs": [
    {
     "name": "stderr",
     "output_type": "stream",
     "text": [
      "  0%|          | 0/18 [00:00<?, ?it/s]Llama.generate: prefix-match hit\n",
      " 11%|█         | 2/18 [01:01<08:10, 30.63s/it]Llama.generate: prefix-match hit\n",
      " 17%|█▋        | 3/18 [04:06<23:43, 94.88s/it]Llama.generate: prefix-match hit\n",
      " 22%|██▏       | 4/18 [07:10<29:53, 128.12s/it]Llama.generate: prefix-match hit\n",
      " 28%|██▊       | 5/18 [09:39<29:19, 135.38s/it]Llama.generate: prefix-match hit\n",
      " 33%|███▎      | 6/18 [12:57<31:16, 156.34s/it]Llama.generate: prefix-match hit\n",
      " 39%|███▉      | 7/18 [15:05<26:58, 147.14s/it]Llama.generate: prefix-match hit\n",
      " 44%|████▍     | 8/18 [17:26<24:13, 145.33s/it]Llama.generate: prefix-match hit\n",
      " 50%|█████     | 9/18 [18:56<19:14, 128.23s/it]Llama.generate: prefix-match hit\n",
      " 56%|█████▌    | 10/18 [20:45<16:16, 122.09s/it]Llama.generate: prefix-match hit\n",
      " 61%|██████    | 11/18 [22:13<13:01, 111.69s/it]Llama.generate: prefix-match hit\n",
      " 67%|██████▋   | 12/18 [24:14<11:27, 114.58s/it]Llama.generate: prefix-match hit\n",
      " 72%|███████▏  | 13/18 [26:34<10:11, 122.38s/it]Llama.generate: prefix-match hit\n",
      " 78%|███████▊  | 14/18 [28:49<08:24, 126.10s/it]Llama.generate: prefix-match hit\n",
      " 83%|████████▎ | 15/18 [30:43<06:07, 122.44s/it]Llama.generate: prefix-match hit\n",
      " 89%|████████▉ | 16/18 [32:29<03:54, 117.41s/it]Llama.generate: prefix-match hit\n",
      " 94%|█████████▍| 17/18 [34:31<01:59, 119.03s/it]Llama.generate: prefix-match hit\n",
      "100%|██████████| 18/18 [36:19<00:00, 115.68s/it]Llama.generate: prefix-match hit\n",
      "100%|██████████| 18/18 [37:56<00:00, 126.45s/it]"
     ]
    },
    {
     "name": "stdout",
     "output_type": "stream",
     "text": [
      "CPU times: total: 3h 30min 5s\n",
      "Wall time: 37min 56s\n"
     ]
    },
    {
     "name": "stderr",
     "output_type": "stream",
     "text": [
      "\n"
     ]
    }
   ],
   "execution_count": 20
  },
  {
   "metadata": {
    "ExecuteTime": {
     "end_time": "2025-02-07T23:11:06.918823Z",
     "start_time": "2025-02-07T23:11:06.912583Z"
    }
   },
   "cell_type": "code",
   "source": "data_1[\"Key Events\"].head() #Complete the code to print the first 5 rows of the 'Key_Events' column",
   "id": "db9f734d9e010692",
   "outputs": [
    {
     "data": {
      "text/plain": [
       "0     {\\n          \"Positive Events\": [\\n          ...\n",
       "1     {\\n          \"Positive Events\": [\\n          ...\n",
       "2     {\\n          \"Positive Events\": [\\n          ...\n",
       "3     {\\n          \"Positive Events\": [\\n          ...\n",
       "4     {\\n          \"Positive Events\": [\\n          ...\n",
       "Name: Key Events, dtype: object"
      ]
     },
     "execution_count": 21,
     "metadata": {},
     "output_type": "execute_result"
    }
   ],
   "execution_count": 21
  },
  {
   "metadata": {
    "ExecuteTime": {
     "end_time": "2025-02-07T23:11:37.240754Z",
     "start_time": "2025-02-07T23:11:37.234353Z"
    }
   },
   "cell_type": "code",
   "source": [
    "data_1['model_response_parsed'] = data_1['Key Events'].apply(extract_json_data)\n",
    "data_1.head()"
   ],
   "id": "f835b05324c492a6",
   "outputs": [
    {
     "data": {
      "text/plain": [
       "        Date                                               News  \\\n",
       "0 2019-01-06   The tech sector experienced a significant dec...   \n",
       "1 2019-01-13   Sprint and Samsung plan to release 5G smartph...   \n",
       "2 2019-01-20   The U.S. stock market declined on Monday as c...   \n",
       "3 2019-01-27   The Swiss National Bank (SNB) governor, Andre...   \n",
       "4 2019-02-03   Caterpillar Inc reported lower-than-expected ...   \n",
       "\n",
       "                                          Key Events  \\\n",
       "0   {\\n          \"Positive Events\": [\\n          ...   \n",
       "1   {\\n          \"Positive Events\": [\\n          ...   \n",
       "2   {\\n          \"Positive Events\": [\\n          ...   \n",
       "3   {\\n          \"Positive Events\": [\\n          ...   \n",
       "4   {\\n          \"Positive Events\": [\\n          ...   \n",
       "\n",
       "                               model_response_parsed  \n",
       "0  {'Positive Events': ['Roku Inc announced plans...  \n",
       "1  {'Positive Events': ['Sprint and Samsung plann...  \n",
       "2  {'Positive Events': ['Dialog Semiconductor rep...  \n",
       "3  {'Positive Events': ['IBM's stock price increa...  \n",
       "4  {'Positive Events': ['Apple reported higher-th...  "
      ],
      "text/html": [
       "<div>\n",
       "<style scoped>\n",
       "    .dataframe tbody tr th:only-of-type {\n",
       "        vertical-align: middle;\n",
       "    }\n",
       "\n",
       "    .dataframe tbody tr th {\n",
       "        vertical-align: top;\n",
       "    }\n",
       "\n",
       "    .dataframe thead th {\n",
       "        text-align: right;\n",
       "    }\n",
       "</style>\n",
       "<table border=\"1\" class=\"dataframe\">\n",
       "  <thead>\n",
       "    <tr style=\"text-align: right;\">\n",
       "      <th></th>\n",
       "      <th>Date</th>\n",
       "      <th>News</th>\n",
       "      <th>Key Events</th>\n",
       "      <th>model_response_parsed</th>\n",
       "    </tr>\n",
       "  </thead>\n",
       "  <tbody>\n",
       "    <tr>\n",
       "      <th>0</th>\n",
       "      <td>2019-01-06</td>\n",
       "      <td>The tech sector experienced a significant dec...</td>\n",
       "      <td>{\\n          \"Positive Events\": [\\n          ...</td>\n",
       "      <td>{'Positive Events': ['Roku Inc announced plans...</td>\n",
       "    </tr>\n",
       "    <tr>\n",
       "      <th>1</th>\n",
       "      <td>2019-01-13</td>\n",
       "      <td>Sprint and Samsung plan to release 5G smartph...</td>\n",
       "      <td>{\\n          \"Positive Events\": [\\n          ...</td>\n",
       "      <td>{'Positive Events': ['Sprint and Samsung plann...</td>\n",
       "    </tr>\n",
       "    <tr>\n",
       "      <th>2</th>\n",
       "      <td>2019-01-20</td>\n",
       "      <td>The U.S. stock market declined on Monday as c...</td>\n",
       "      <td>{\\n          \"Positive Events\": [\\n          ...</td>\n",
       "      <td>{'Positive Events': ['Dialog Semiconductor rep...</td>\n",
       "    </tr>\n",
       "    <tr>\n",
       "      <th>3</th>\n",
       "      <td>2019-01-27</td>\n",
       "      <td>The Swiss National Bank (SNB) governor, Andre...</td>\n",
       "      <td>{\\n          \"Positive Events\": [\\n          ...</td>\n",
       "      <td>{'Positive Events': ['IBM's stock price increa...</td>\n",
       "    </tr>\n",
       "    <tr>\n",
       "      <th>4</th>\n",
       "      <td>2019-02-03</td>\n",
       "      <td>Caterpillar Inc reported lower-than-expected ...</td>\n",
       "      <td>{\\n          \"Positive Events\": [\\n          ...</td>\n",
       "      <td>{'Positive Events': ['Apple reported higher-th...</td>\n",
       "    </tr>\n",
       "  </tbody>\n",
       "</table>\n",
       "</div>"
      ]
     },
     "execution_count": 22,
     "metadata": {},
     "output_type": "execute_result"
    }
   ],
   "execution_count": 22
  },
  {
   "metadata": {
    "ExecuteTime": {
     "end_time": "2025-02-07T23:11:49.974013Z",
     "start_time": "2025-02-07T23:11:49.968870Z"
    }
   },
   "cell_type": "code",
   "source": [
    "model_response_parsed = pd.json_normalize(data_1['model_response_parsed'])\n",
    "model_response_parsed.head()"
   ],
   "id": "3d2bef79490b146b",
   "outputs": [
    {
     "data": {
      "text/plain": [
       "                                     Positive Events  \\\n",
       "0  [Roku Inc announced plans to offer premium vid...   \n",
       "1  [Sprint and Samsung planning to release 5G sma...   \n",
       "2  [Dialog Semiconductor reported fourth quarter ...   \n",
       "3  [IBM's stock price increased after hours due t...   \n",
       "4  [Apple reported higher-than-expected revenue a...   \n",
       "\n",
       "                                     Negative Events  \n",
       "0  [Apple lowered its fiscal Q1 revenue guidance ...  \n",
       "1  [Geely forecasting flat sales for 2019 due to ...  \n",
       "2  [China's exports and imports dropped unexpecte...  \n",
       "3  [The Swiss National Bank governor emphasized t...  \n",
       "4  [Caterpillar Inc reported lower-than-expected ...  "
      ],
      "text/html": [
       "<div>\n",
       "<style scoped>\n",
       "    .dataframe tbody tr th:only-of-type {\n",
       "        vertical-align: middle;\n",
       "    }\n",
       "\n",
       "    .dataframe tbody tr th {\n",
       "        vertical-align: top;\n",
       "    }\n",
       "\n",
       "    .dataframe thead th {\n",
       "        text-align: right;\n",
       "    }\n",
       "</style>\n",
       "<table border=\"1\" class=\"dataframe\">\n",
       "  <thead>\n",
       "    <tr style=\"text-align: right;\">\n",
       "      <th></th>\n",
       "      <th>Positive Events</th>\n",
       "      <th>Negative Events</th>\n",
       "    </tr>\n",
       "  </thead>\n",
       "  <tbody>\n",
       "    <tr>\n",
       "      <th>0</th>\n",
       "      <td>[Roku Inc announced plans to offer premium vid...</td>\n",
       "      <td>[Apple lowered its fiscal Q1 revenue guidance ...</td>\n",
       "    </tr>\n",
       "    <tr>\n",
       "      <th>1</th>\n",
       "      <td>[Sprint and Samsung planning to release 5G sma...</td>\n",
       "      <td>[Geely forecasting flat sales for 2019 due to ...</td>\n",
       "    </tr>\n",
       "    <tr>\n",
       "      <th>2</th>\n",
       "      <td>[Dialog Semiconductor reported fourth quarter ...</td>\n",
       "      <td>[China's exports and imports dropped unexpecte...</td>\n",
       "    </tr>\n",
       "    <tr>\n",
       "      <th>3</th>\n",
       "      <td>[IBM's stock price increased after hours due t...</td>\n",
       "      <td>[The Swiss National Bank governor emphasized t...</td>\n",
       "    </tr>\n",
       "    <tr>\n",
       "      <th>4</th>\n",
       "      <td>[Apple reported higher-than-expected revenue a...</td>\n",
       "      <td>[Caterpillar Inc reported lower-than-expected ...</td>\n",
       "    </tr>\n",
       "  </tbody>\n",
       "</table>\n",
       "</div>"
      ]
     },
     "execution_count": 23,
     "metadata": {},
     "output_type": "execute_result"
    }
   ],
   "execution_count": 23
  },
  {
   "metadata": {
    "ExecuteTime": {
     "end_time": "2025-02-07T23:12:00.520307Z",
     "start_time": "2025-02-07T23:12:00.514309Z"
    }
   },
   "cell_type": "code",
   "source": [
    "final_output = pd.concat([data_1.reset_index(drop=True),model_response_parsed],axis=1)\n",
    "final_output.drop(['Key Events','model_response_parsed'], axis=1, inplace=True)\n",
    "final_output.columns = ['Week End Date', 'News', 'Week Positive Events', 'Week Negative Events']\n",
    "\n",
    "final_output.head()"
   ],
   "id": "7500990467181fe0",
   "outputs": [
    {
     "data": {
      "text/plain": [
       "  Week End Date                                               News  \\\n",
       "0    2019-01-06   The tech sector experienced a significant dec...   \n",
       "1    2019-01-13   Sprint and Samsung plan to release 5G smartph...   \n",
       "2    2019-01-20   The U.S. stock market declined on Monday as c...   \n",
       "3    2019-01-27   The Swiss National Bank (SNB) governor, Andre...   \n",
       "4    2019-02-03   Caterpillar Inc reported lower-than-expected ...   \n",
       "\n",
       "                                Week Positive Events  \\\n",
       "0  [Roku Inc announced plans to offer premium vid...   \n",
       "1  [Sprint and Samsung planning to release 5G sma...   \n",
       "2  [Dialog Semiconductor reported fourth quarter ...   \n",
       "3  [IBM's stock price increased after hours due t...   \n",
       "4  [Apple reported higher-than-expected revenue a...   \n",
       "\n",
       "                                Week Negative Events  \n",
       "0  [Apple lowered its fiscal Q1 revenue guidance ...  \n",
       "1  [Geely forecasting flat sales for 2019 due to ...  \n",
       "2  [China's exports and imports dropped unexpecte...  \n",
       "3  [The Swiss National Bank governor emphasized t...  \n",
       "4  [Caterpillar Inc reported lower-than-expected ...  "
      ],
      "text/html": [
       "<div>\n",
       "<style scoped>\n",
       "    .dataframe tbody tr th:only-of-type {\n",
       "        vertical-align: middle;\n",
       "    }\n",
       "\n",
       "    .dataframe tbody tr th {\n",
       "        vertical-align: top;\n",
       "    }\n",
       "\n",
       "    .dataframe thead th {\n",
       "        text-align: right;\n",
       "    }\n",
       "</style>\n",
       "<table border=\"1\" class=\"dataframe\">\n",
       "  <thead>\n",
       "    <tr style=\"text-align: right;\">\n",
       "      <th></th>\n",
       "      <th>Week End Date</th>\n",
       "      <th>News</th>\n",
       "      <th>Week Positive Events</th>\n",
       "      <th>Week Negative Events</th>\n",
       "    </tr>\n",
       "  </thead>\n",
       "  <tbody>\n",
       "    <tr>\n",
       "      <th>0</th>\n",
       "      <td>2019-01-06</td>\n",
       "      <td>The tech sector experienced a significant dec...</td>\n",
       "      <td>[Roku Inc announced plans to offer premium vid...</td>\n",
       "      <td>[Apple lowered its fiscal Q1 revenue guidance ...</td>\n",
       "    </tr>\n",
       "    <tr>\n",
       "      <th>1</th>\n",
       "      <td>2019-01-13</td>\n",
       "      <td>Sprint and Samsung plan to release 5G smartph...</td>\n",
       "      <td>[Sprint and Samsung planning to release 5G sma...</td>\n",
       "      <td>[Geely forecasting flat sales for 2019 due to ...</td>\n",
       "    </tr>\n",
       "    <tr>\n",
       "      <th>2</th>\n",
       "      <td>2019-01-20</td>\n",
       "      <td>The U.S. stock market declined on Monday as c...</td>\n",
       "      <td>[Dialog Semiconductor reported fourth quarter ...</td>\n",
       "      <td>[China's exports and imports dropped unexpecte...</td>\n",
       "    </tr>\n",
       "    <tr>\n",
       "      <th>3</th>\n",
       "      <td>2019-01-27</td>\n",
       "      <td>The Swiss National Bank (SNB) governor, Andre...</td>\n",
       "      <td>[IBM's stock price increased after hours due t...</td>\n",
       "      <td>[The Swiss National Bank governor emphasized t...</td>\n",
       "    </tr>\n",
       "    <tr>\n",
       "      <th>4</th>\n",
       "      <td>2019-02-03</td>\n",
       "      <td>Caterpillar Inc reported lower-than-expected ...</td>\n",
       "      <td>[Apple reported higher-than-expected revenue a...</td>\n",
       "      <td>[Caterpillar Inc reported lower-than-expected ...</td>\n",
       "    </tr>\n",
       "  </tbody>\n",
       "</table>\n",
       "</div>"
      ]
     },
     "execution_count": 24,
     "metadata": {},
     "output_type": "execute_result"
    }
   ],
   "execution_count": 24
  },
  {
   "metadata": {},
   "cell_type": "code",
   "outputs": [],
   "execution_count": null,
   "source": "",
   "id": "81761affdb4d2afb"
  }
 ],
 "metadata": {
  "kernelspec": {
   "display_name": "Python 3",
   "language": "python",
   "name": "python3"
  },
  "language_info": {
   "codemirror_mode": {
    "name": "ipython",
    "version": 2
   },
   "file_extension": ".py",
   "mimetype": "text/x-python",
   "name": "python",
   "nbconvert_exporter": "python",
   "pygments_lexer": "ipython2",
   "version": "2.7.6"
  }
 },
 "nbformat": 4,
 "nbformat_minor": 5
}
